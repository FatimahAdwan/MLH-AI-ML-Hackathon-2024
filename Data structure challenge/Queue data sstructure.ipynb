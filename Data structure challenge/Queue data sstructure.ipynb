{
 "cells": [
  {
   "cell_type": "markdown",
   "id": "c21e966a-8610-48ce-bb33-4488460365d2",
   "metadata": {},
   "source": [
    "## Problem Statement:\n",
    "In many real-world applications, managing tasks or processes in an orderly and efficient manner is crucial. A common challenge is to ensure that tasks are processed in the order they are received, without skipping or delaying any tasks unnecessarily. This project addresses the need to design a simple, yet effective task management system that processes tasks on a First-In-First-Out (FIFO) basis. The system will implement a queue data structure to manage the task flow, ensuring that each task is handled in the correct sequence, demonstrating the practical application of queues in managing real-time operations and tasks.\n",
    "## Aim and Objectives:\n",
    "The aim of this project is to provide a practical understanding of the queue data structure by implementing it in Python and applying it to manage tasks in a real-world scenario. The objectives include solidifying core data structure concepts, enhancing programming skills through hands-on coding, and demonstrating the application of queues in solving everyday programming challenges, ultimately preparing the learner for more advanced studies in data structures and algorithms."
   ]
  },
  {
   "cell_type": "code",
   "execution_count": 4,
   "id": "01ab84f3-d582-4d2c-b1f4-43e8cb796576",
   "metadata": {},
   "outputs": [],
   "source": [
    "# create a class to implement a basic queue. A queue follows the First-In-First-Out (FIFO) principle.\n",
    "class Queue:\n",
    "    def __init__(self):\n",
    "        self.items = []\n",
    "\n",
    "    def is_empty(self):\n",
    "        return len(self.items) == 0\n",
    "    #creat an enqueue (adding an item)\n",
    "    def enqueue(self, item):\n",
    "        self.items.append(item)\n",
    "    #create a dequeue (removing an item)\n",
    "    def dequeue(self):\n",
    "        if not self.is_empty():\n",
    "            return self.items.pop(0)\n",
    "        return None\n",
    "    #checking if the queue is empty\n",
    "    def peek(self):\n",
    "        if not self.is_empty():\n",
    "            return self.items[0]\n",
    "        return None\n",
    "\n",
    "    def size(self):\n",
    "        return len(self.items)\n",
    "\n",
    "    def __str__(self):\n",
    "        return f\"Queue: {self.items}\"\n"
   ]
  },
  {
   "cell_type": "code",
   "execution_count": 5,
   "id": "5dc8ff73-642a-49a1-9322-5e10d8a68446",
   "metadata": {},
   "outputs": [],
   "source": [
    "# let's create some sample task data that simulates task in a real-world scenario will be added to the queue.\n",
    "def generate_tasks():\n",
    "    return [\n",
    "        \"Task 1: Process user data\",\n",
    "        \"Task 2: Backup database\",\n",
    "        \"Task 3: Send email notifications\",\n",
    "        \"Task 4: Run data analysis\",\n",
    "        \"Task 5: Generate reports\",\n",
    "    ]\n"
   ]
  },
  {
   "cell_type": "code",
   "execution_count": 6,
   "id": "30f83c82-885d-4117-be92-1fc351b7f145",
   "metadata": {},
   "outputs": [
    {
     "name": "stdout",
     "output_type": "stream",
     "text": [
      "Enqueueing tasks to the queue...\n",
      "\n",
      "Initial Queue:\n",
      "Queue: ['Task 1: Process user data', 'Task 2: Backup database', 'Task 3: Send email notifications', 'Task 4: Run data analysis', 'Task 5: Generate reports']\n"
     ]
    }
   ],
   "source": [
    "# create an instance of the queue and add the generated tasks to it using the enqueue method\n",
    "task_queue = Queue()\n",
    "tasks = generate_tasks()\n",
    "\n",
    "print(\"Enqueueing tasks to the queue...\")\n",
    "for task in tasks:\n",
    "    task_queue.enqueue(task)\n",
    "\n",
    "print(\"\\nInitial Queue:\")\n",
    "print(task_queue)\n"
   ]
  },
  {
   "cell_type": "code",
   "execution_count": 7,
   "id": "780e49d6-1546-4603-b76e-56ca530672bf",
   "metadata": {},
   "outputs": [
    {
     "name": "stdout",
     "output_type": "stream",
     "text": [
      "\n",
      "Processing Tasks...\n",
      "Processing Task 1: Process user data...\n",
      "Processing Task 2: Backup database...\n",
      "Processing Task 3: Send email notifications...\n",
      "Processing Task 4: Run data analysis...\n",
      "Processing Task 5: Generate reports...\n",
      "\n",
      "Queue after processing all tasks:\n",
      "Queue: []\n"
     ]
    }
   ],
   "source": [
    "# we will dequeue them one by one and display the queue's state after each operation To simulate processing the tasks\n",
    "print(\"\\nProcessing Tasks...\")\n",
    "\n",
    "while not task_queue.is_empty():\n",
    "    task = task_queue.dequeue()\n",
    "    print(f\"Processing {task}...\")\n",
    "\n",
    "print(\"\\nQueue after processing all tasks:\")\n",
    "print(task_queue)\n"
   ]
  },
  {
   "cell_type": "code",
   "execution_count": 10,
   "id": "c76abe99-db16-4d66-9177-f43895baf456",
   "metadata": {},
   "outputs": [
    {
     "name": "stdout",
     "output_type": "stream",
     "text": [
      "Enqueueing tasks to the queue...\n",
      "Enqueued: Task 1: Process user data\n",
      "Enqueued: Task 2: Backup database\n",
      "Enqueued: Task 3: Send email notifications\n",
      "Enqueued: Task 4: Run data analysis\n",
      "Enqueued: Task 5: Generate reports\n",
      "\n",
      "Initial Queue:\n",
      "Queue: ['Task 1: Process user data', 'Task 2: Backup database', 'Task 3: Send email notifications', 'Task 4: Run data analysis', 'Task 5: Generate reports']\n",
      "\n",
      "Processing Tasks...\n",
      "Dequeued: Task 1: Process user data\n",
      "Processing Task 1: Process user data...\n",
      "Dequeued: Task 2: Backup database\n",
      "Processing Task 2: Backup database...\n",
      "Dequeued: Task 3: Send email notifications\n",
      "Processing Task 3: Send email notifications...\n",
      "Dequeued: Task 4: Run data analysis\n",
      "Processing Task 4: Run data analysis...\n",
      "Dequeued: Task 5: Generate reports\n",
      "Processing Task 5: Generate reports...\n",
      "\n",
      "Queue after processing all tasks:\n",
      "Queue: []\n"
     ]
    }
   ],
   "source": [
    "# Now we will queue and dequeue to show a typical daily activities\n",
    "task_queue = Queue()\n",
    "tasks = generate_tasks()\n",
    "\n",
    "print(\"Enqueueing tasks to the queue...\")\n",
    "for task in tasks:\n",
    "    task_queue.enqueue(task)\n",
    "\n",
    "print(\"\\nInitial Queue:\")\n",
    "print(task_queue)\n",
    "\n",
    "print(\"\\nProcessing Tasks...\")\n",
    "\n",
    "while not task_queue.is_empty():\n",
    "    task = task_queue.dequeue()\n",
    "    print(f\"Processing {task}...\")\n",
    "\n",
    "print(\"\\nQueue after processing all tasks:\")\n",
    "print(task_queue)"
   ]
  },
  {
   "cell_type": "code",
   "execution_count": null,
   "id": "3456237f-41c1-47d2-9005-1b1491e232a5",
   "metadata": {},
   "outputs": [],
   "source": []
  },
  {
   "cell_type": "code",
   "execution_count": null,
   "id": "e5f58b4c-ed1a-4b9f-96b4-4e2395f7582a",
   "metadata": {},
   "outputs": [],
   "source": []
  }
 ],
 "metadata": {
  "kernelspec": {
   "display_name": "Python 3 (ipykernel)",
   "language": "python",
   "name": "python3"
  },
  "language_info": {
   "codemirror_mode": {
    "name": "ipython",
    "version": 3
   },
   "file_extension": ".py",
   "mimetype": "text/x-python",
   "name": "python",
   "nbconvert_exporter": "python",
   "pygments_lexer": "ipython3",
   "version": "3.11.7"
  }
 },
 "nbformat": 4,
 "nbformat_minor": 5
}
